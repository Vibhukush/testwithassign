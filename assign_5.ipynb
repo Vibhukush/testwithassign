{
 "cells": [
  {
   "cell_type": "markdown",
   "id": "466ab06a",
   "metadata": {},
   "source": [
    "# 1. What does an empty dictionary's code look like?\n"
   ]
  },
  {
   "cell_type": "code",
   "execution_count": 8,
   "id": "d08ec4f1",
   "metadata": {},
   "outputs": [],
   "source": [
    "#Empty dictionary can be created \n",
    "my_dict = {}\n"
   ]
  },
  {
   "cell_type": "code",
   "execution_count": 12,
   "id": "a002c0f6",
   "metadata": {},
   "outputs": [
    {
     "data": {
      "text/plain": [
       "' The value of a dictionary value with the key ‘foo’ and the value 42 is 42.'"
      ]
     },
     "execution_count": 12,
     "metadata": {},
     "output_type": "execute_result"
    }
   ],
   "source": [
    "#2. What is the value of a dictionary value with the key 'foo' and the value 42?\n",
    "mydict = {'foo' : 42}\n",
    "\" The value of a dictionary value with the key ‘foo’ and the value 42 is 42.\""
   ]
  },
  {
   "cell_type": "code",
   "execution_count": 10,
   "id": "ffdd26c6",
   "metadata": {},
   "outputs": [
    {
     "data": {
      "text/plain": [
       "'The most significant distinction between a dictionary and a list is that a list is an ordered collection of elements,\\nwhereas a dictionary is an unordered collection of key-value pairs1.'"
      ]
     },
     "execution_count": 10,
     "metadata": {},
     "output_type": "execute_result"
    }
   ],
   "source": [
    "#3. What is the most significant distinction between a dictionary and a list?\n",
    "'''The most significant distinction between a dictionary and a list is that a list is an ordered collection of elements,\n",
    "whereas a dictionary is an unordered collection of key-value pairs.'''"
   ]
  },
  {
   "cell_type": "code",
   "execution_count": 11,
   "id": "d811d867",
   "metadata": {},
   "outputs": [
    {
     "data": {
      "text/plain": [
       "\"If you try to access spam['foo'] when spam is {'bar': 100}, you will get a KeyError\""
      ]
     },
     "execution_count": 11,
     "metadata": {},
     "output_type": "execute_result"
    }
   ],
   "source": [
    "#4. What happens if you try to access spam['foo'] if spam is {'bar': 100}?\n",
    "\n",
    "\"\"\"If you try to access spam['foo'] when spam is {'bar': 100}, you will get a KeyError\"\"\""
   ]
  },
  {
   "cell_type": "code",
   "execution_count": 20,
   "id": "f57c25eb",
   "metadata": {},
   "outputs": [
    {
     "data": {
      "text/plain": [
       "\"If a dictionary is stored in spam, 'cat' in spam checks whether there is a 'cat' key in the dictionary'cat' in spam.values() checks whether there is a value 'cat' for one of the keys in spam.\""
      ]
     },
     "execution_count": 20,
     "metadata": {},
     "output_type": "execute_result"
    }
   ],
   "source": [
    "#5. If a dictionary is stored in spam, what is the difference between the expressions 'cat' in spam and 'cat' in spam.keys()?\n",
    "\"If a dictionary is stored in spam, 'cat' in spam checks whether there is a 'cat' key in the dictionary'cat' in spam.values() checks whether there is a value 'cat' for one of the keys in spam.\""
   ]
  },
  {
   "cell_type": "code",
   "execution_count": 21,
   "id": "6d047a02",
   "metadata": {},
   "outputs": [
    {
     "data": {
      "text/plain": [
       "{'cat': 1030, 'color': 'black'}"
      ]
     },
     "execution_count": 21,
     "metadata": {},
     "output_type": "execute_result"
    }
   ],
   "source": [
    "#6 if 'color' not in spam:\n",
    "\n",
    "\"This code checks if the key color is not in the dictionary spam If it is not, it adds the key `'color'` with the value `'black'` to the dictionary `spam`.\"\n",
    "spam ={'cat':1030}\n",
    "spam.setdefault('color','black')\n",
    "spam\n",
    "\n"
   ]
  },
  {
   "cell_type": "code",
   "execution_count": 23,
   "id": "84d806bb",
   "metadata": {},
   "outputs": [
    {
     "name": "stdout",
     "output_type": "stream",
     "text": [
      "{'address': 'New York', 'age': 25, 'name': 'John'}\n"
     ]
    }
   ],
   "source": [
    "#6 Pretty printing means to present something in a more readable format or style\n",
    "import pprint\n",
    "\n",
    "my_dict = {'name': 'John', 'age': 25, 'address': 'New York'}\n",
    "pprint.pprint(my_dict)"
   ]
  },
  {
   "cell_type": "code",
   "execution_count": null,
   "id": "7d6ecea5",
   "metadata": {},
   "outputs": [],
   "source": []
  }
 ],
 "metadata": {
  "kernelspec": {
   "display_name": "Python 3 (ipykernel)",
   "language": "python",
   "name": "python3"
  },
  "language_info": {
   "codemirror_mode": {
    "name": "ipython",
    "version": 3
   },
   "file_extension": ".py",
   "mimetype": "text/x-python",
   "name": "python",
   "nbconvert_exporter": "python",
   "pygments_lexer": "ipython3",
   "version": "3.9.7"
  }
 },
 "nbformat": 4,
 "nbformat_minor": 5
}
